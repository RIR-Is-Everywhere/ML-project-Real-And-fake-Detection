{
  "nbformat": 4,
  "nbformat_minor": 0,
  "metadata": {
    "colab": {
      "provenance": [],
      "gpuType": "T4"
    },
    "kernelspec": {
      "name": "python3",
      "display_name": "Python 3"
    },
    "language_info": {
      "name": "python"
    },
    "accelerator": "GPU"
  },
  "cells": [
    {
      "cell_type": "code",
      "execution_count": 1,
      "metadata": {
        "id": "M9GxtB6cdZne"
      },
      "outputs": [],
      "source": [
        "# 📌 STEP 1: Install dependencies\n",
        "!pip install gradio tensorflow opencv-python --quiet\n"
      ]
    },
    {
      "cell_type": "code",
      "source": [
        "# 📌 STEP 2: Import libraries\n",
        "import os\n",
        "import numpy as np\n",
        "import cv2\n",
        "import matplotlib.pyplot as plt\n",
        "import tensorflow as tf\n",
        "from tensorflow.keras.models import Sequential\n",
        "from tensorflow.keras.layers import Conv2D, MaxPooling2D, Flatten, Dense, Dropout\n",
        "from sklearn.model_selection import train_test_split\n",
        "from sklearn.metrics import classification_report\n",
        "import gradio as gr\n"
      ],
      "metadata": {
        "id": "t65yEcM1fdG2"
      },
      "execution_count": 2,
      "outputs": []
    },
    {
      "cell_type": "code",
      "source": [
        "\n",
        "!unzip /content/\"dataset ml.zip\" -d /content/dataset"
      ],
      "metadata": {
        "id": "l2AWA87hf22t",
        "outputId": "f9f1e948-8d62-4c25-ac46-5f260ecce038",
        "colab": {
          "base_uri": "https://localhost:8080/",
          "height": 0
        }
      },
      "execution_count": 4,
      "outputs": [
        {
          "output_type": "stream",
          "name": "stdout",
          "text": [
            "Archive:  /content/dataset ml.zip\n",
            "   creating: /content/dataset/dataset ml/\n",
            "   creating: /content/dataset/dataset ml/fake/\n",
            "   creating: /content/dataset/dataset ml/real/\n",
            "  inflating: /content/dataset/dataset ml/real/real_0.jpg  \n",
            "  inflating: /content/dataset/dataset ml/real/real_1.jpg  \n",
            "  inflating: /content/dataset/dataset ml/real/real_10.jpg  \n",
            "  inflating: /content/dataset/dataset ml/real/real_100.jpg  \n",
            "  inflating: /content/dataset/dataset ml/real/real_11.jpg  \n",
            "  inflating: /content/dataset/dataset ml/real/real_12.jpg  \n",
            "  inflating: /content/dataset/dataset ml/real/real_13.jpg  \n",
            "  inflating: /content/dataset/dataset ml/real/real_14.jpg  \n",
            "  inflating: /content/dataset/dataset ml/real/real_15.jpg  \n",
            "  inflating: /content/dataset/dataset ml/real/real_16.jpg  \n",
            "  inflating: /content/dataset/dataset ml/real/real_17.jpg  \n",
            "  inflating: /content/dataset/dataset ml/real/real_18.jpg  \n",
            "  inflating: /content/dataset/dataset ml/real/real_19.jpg  \n",
            "  inflating: /content/dataset/dataset ml/real/real_2.jpg  \n",
            "  inflating: /content/dataset/dataset ml/real/real_20.jpg  \n",
            "  inflating: /content/dataset/dataset ml/real/real_21.jpg  \n",
            "  inflating: /content/dataset/dataset ml/real/real_22.jpg  \n",
            "  inflating: /content/dataset/dataset ml/real/real_23.jpg  \n",
            "  inflating: /content/dataset/dataset ml/real/real_24.jpg  \n",
            "  inflating: /content/dataset/dataset ml/real/real_25.jpg  \n",
            "  inflating: /content/dataset/dataset ml/real/real_26.jpg  \n",
            "  inflating: /content/dataset/dataset ml/real/real_27.jpg  \n",
            "  inflating: /content/dataset/dataset ml/real/real_28.jpg  \n",
            "  inflating: /content/dataset/dataset ml/real/real_29.jpg  \n",
            "  inflating: /content/dataset/dataset ml/real/real_3.jpg  \n",
            "  inflating: /content/dataset/dataset ml/real/real_30.jpg  \n",
            "  inflating: /content/dataset/dataset ml/real/real_31.jpg  \n",
            "  inflating: /content/dataset/dataset ml/real/real_32.jpg  \n",
            "  inflating: /content/dataset/dataset ml/real/real_33.jpg  \n",
            "  inflating: /content/dataset/dataset ml/real/real_34.jpg  \n",
            "  inflating: /content/dataset/dataset ml/real/real_35.jpg  \n",
            "  inflating: /content/dataset/dataset ml/real/real_36.jpg  \n",
            "  inflating: /content/dataset/dataset ml/real/real_37.jpg  \n",
            "  inflating: /content/dataset/dataset ml/real/real_38.jpg  \n",
            "  inflating: /content/dataset/dataset ml/real/real_39.jpg  \n",
            "  inflating: /content/dataset/dataset ml/real/real_4.jpg  \n",
            "  inflating: /content/dataset/dataset ml/real/real_40.jpg  \n",
            "  inflating: /content/dataset/dataset ml/real/real_41.jpg  \n",
            "  inflating: /content/dataset/dataset ml/real/real_42.jpg  \n",
            "  inflating: /content/dataset/dataset ml/real/real_43.jpg  \n",
            "  inflating: /content/dataset/dataset ml/real/real_44.jpg  \n",
            "  inflating: /content/dataset/dataset ml/real/real_45.jpg  \n",
            "  inflating: /content/dataset/dataset ml/real/real_46.jpg  \n",
            "  inflating: /content/dataset/dataset ml/real/real_47.jpg  \n",
            "  inflating: /content/dataset/dataset ml/real/real_48.jpg  \n",
            "  inflating: /content/dataset/dataset ml/real/real_49.jpg  \n",
            "  inflating: /content/dataset/dataset ml/real/real_5.jpg  \n",
            "  inflating: /content/dataset/dataset ml/real/real_50.jpg  \n",
            "  inflating: /content/dataset/dataset ml/real/real_51.jpg  \n",
            "  inflating: /content/dataset/dataset ml/real/real_52.jpg  \n",
            "  inflating: /content/dataset/dataset ml/real/real_53.jpg  \n",
            "  inflating: /content/dataset/dataset ml/real/real_54.jpg  \n",
            "  inflating: /content/dataset/dataset ml/real/real_55.jpg  \n",
            "  inflating: /content/dataset/dataset ml/real/real_56.jpg  \n",
            "  inflating: /content/dataset/dataset ml/real/real_57.jpg  \n",
            "  inflating: /content/dataset/dataset ml/real/real_58.jpg  \n",
            "  inflating: /content/dataset/dataset ml/real/real_59.jpg  \n",
            "  inflating: /content/dataset/dataset ml/real/real_6.jpg  \n",
            "  inflating: /content/dataset/dataset ml/real/real_60.jpg  \n",
            "  inflating: /content/dataset/dataset ml/real/real_61.jpg  \n",
            "  inflating: /content/dataset/dataset ml/real/real_62.jpg  \n",
            "  inflating: /content/dataset/dataset ml/real/real_63.jpg  \n",
            "  inflating: /content/dataset/dataset ml/real/real_64.jpg  \n",
            "  inflating: /content/dataset/dataset ml/real/real_65.jpg  \n",
            "  inflating: /content/dataset/dataset ml/real/real_66.jpg  \n",
            "  inflating: /content/dataset/dataset ml/real/real_67.jpg  \n",
            "  inflating: /content/dataset/dataset ml/real/real_68.jpg  \n",
            "  inflating: /content/dataset/dataset ml/real/real_69.jpg  \n",
            "  inflating: /content/dataset/dataset ml/real/real_7.jpg  \n",
            "  inflating: /content/dataset/dataset ml/real/real_70.jpg  \n",
            "  inflating: /content/dataset/dataset ml/real/real_71.jpg  \n",
            "  inflating: /content/dataset/dataset ml/real/real_72.jpg  \n",
            "  inflating: /content/dataset/dataset ml/real/real_73.jpg  \n",
            "  inflating: /content/dataset/dataset ml/real/real_74.jpg  \n",
            "  inflating: /content/dataset/dataset ml/real/real_75.jpg  \n",
            "  inflating: /content/dataset/dataset ml/real/real_76.jpg  \n",
            "  inflating: /content/dataset/dataset ml/real/real_77.jpg  \n",
            "  inflating: /content/dataset/dataset ml/real/real_78.jpg  \n",
            "  inflating: /content/dataset/dataset ml/real/real_79.jpg  \n",
            "  inflating: /content/dataset/dataset ml/real/real_8.jpg  \n",
            "  inflating: /content/dataset/dataset ml/real/real_80.jpg  \n",
            "  inflating: /content/dataset/dataset ml/real/real_81.jpg  \n",
            "  inflating: /content/dataset/dataset ml/real/real_82.jpg  \n",
            "  inflating: /content/dataset/dataset ml/real/real_83.jpg  \n",
            "  inflating: /content/dataset/dataset ml/real/real_84.jpg  \n",
            "  inflating: /content/dataset/dataset ml/real/real_85.jpg  \n",
            "  inflating: /content/dataset/dataset ml/real/real_86.jpg  \n",
            "  inflating: /content/dataset/dataset ml/real/real_87.jpg  \n",
            "  inflating: /content/dataset/dataset ml/real/real_88.jpg  \n",
            "  inflating: /content/dataset/dataset ml/real/real_89.jpg  \n",
            "  inflating: /content/dataset/dataset ml/real/real_9.jpg  \n",
            "  inflating: /content/dataset/dataset ml/real/real_90.jpg  \n",
            "  inflating: /content/dataset/dataset ml/real/real_91.jpg  \n",
            "  inflating: /content/dataset/dataset ml/real/real_92.jpg  \n",
            "  inflating: /content/dataset/dataset ml/real/real_93.jpg  \n",
            "  inflating: /content/dataset/dataset ml/real/real_94.jpg  \n",
            "  inflating: /content/dataset/dataset ml/real/real_95.jpg  \n",
            "  inflating: /content/dataset/dataset ml/real/real_96.jpg  \n",
            "  inflating: /content/dataset/dataset ml/real/real_97.jpg  \n",
            "  inflating: /content/dataset/dataset ml/real/real_98.jpg  \n",
            "  inflating: /content/dataset/dataset ml/real/real_99.jpg  \n",
            "  inflating: /content/dataset/dataset ml/fake/0_20241130135552_A_close-up_shot_of_a_middle-aged_genderqueer_perso.jpg  \n",
            "  inflating: /content/dataset/dataset ml/fake/1_20241130135540_prompt.jpg  \n",
            "  inflating: /content/dataset/dataset ml/fake/1_20241130135605_A_close-up_shot_of_a_elderly_female_person_of_Nati.jpg  \n",
            "  inflating: /content/dataset/dataset ml/fake/10_20241130135752_A_close-up_shot_of_a_teenager_non-binary_person_of.jpg  \n",
            "  inflating: /content/dataset/dataset ml/fake/11_20241130135805_A_close-up_shot_of_a_middle-aged_male_person_of_Mi.jpg  \n",
            "  inflating: /content/dataset/dataset ml/fake/12_20241130135817_A_close-up_shot_of_a_child_male_person_of_Native_A.jpg  \n",
            "  inflating: /content/dataset/dataset ml/fake/13_20241130135825_A_close-up_shot_of_a_teenager_non-binary_person_of.jpg  \n",
            "  inflating: /content/dataset/dataset ml/fake/14_20241130135832_A_close-up_shot_of_a_elderly_genderqueer_person_of.jpg  \n",
            "  inflating: /content/dataset/dataset ml/fake/15_20241130135843_A_close-up_shot_of_a_young_adult_female_person_of_.jpg  \n",
            "  inflating: /content/dataset/dataset ml/fake/16_20241130135901_A_close-up_shot_of_a_middle-aged_female_person_of_.jpg  \n",
            "  inflating: /content/dataset/dataset ml/fake/17_20241130135914_A_close-up_shot_of_a_elderly_male_person_of_Asian_.jpg  \n",
            "  inflating: /content/dataset/dataset ml/fake/18_20241130135928_A_close-up_shot_of_a_middle-aged_female_person_of_.jpg  \n",
            "  inflating: /content/dataset/dataset ml/fake/19_20241130135941_A_close-up_shot_of_a_middle-aged_female_person_of_.jpg  \n",
            "  inflating: /content/dataset/dataset ml/fake/2_20241130135618_A_close-up_shot_of_a_teenager_female_person_of_Pac.jpg  \n",
            "  inflating: /content/dataset/dataset ml/fake/20_20241130135952_A_close-up_shot_of_a_young_adult_female_person_of_.jpg  \n",
            "  inflating: /content/dataset/dataset ml/fake/21_20241130140004_A_close-up_shot_of_a_elderly_female_person_of_Nati.jpg  \n",
            "  inflating: /content/dataset/dataset ml/fake/22_20241130140020_A_close-up_shot_of_a_elderly_male_person_of_Caucas.jpg  \n",
            "  inflating: /content/dataset/dataset ml/fake/23_20241130140035_A_close-up_shot_of_a_young_adult_non-binary_person.jpg  \n",
            "  inflating: /content/dataset/dataset ml/fake/24_20241130140052_A_close-up_shot_of_a_middle-aged_genderqueer_perso.jpg  \n",
            "  inflating: /content/dataset/dataset ml/fake/25_20241130140106_A_close-up_shot_of_a_teenager_male_person_of_Afric.jpg  \n",
            "  inflating: /content/dataset/dataset ml/fake/26_20241130140124_A_close-up_shot_of_a_child_male_person_of_Caucasia.jpg  \n",
            "  inflating: /content/dataset/dataset ml/fake/27_20241130140139_A_close-up_shot_of_a_young_adult_male_person_of_Hi.jpg  \n",
            "  inflating: /content/dataset/dataset ml/fake/28_20241130140151_A_close-up_shot_of_a_young_adult_genderqueer_perso.jpg  \n",
            "  inflating: /content/dataset/dataset ml/fake/29_20241130140201_A_close-up_shot_of_a_young_adult_female_person_of_.jpg  \n",
            "  inflating: /content/dataset/dataset ml/fake/3_20241130135629_A_close-up_shot_of_a_child_genderqueer_person_of_A.jpg  \n",
            "  inflating: /content/dataset/dataset ml/fake/30_20241130140211_A_close-up_shot_of_a_child_female_person_of_Native.jpg  \n",
            "  inflating: /content/dataset/dataset ml/fake/31_20241130140225_A_close-up_shot_of_a_young_adult_non-binary_person.jpg  \n",
            "  inflating: /content/dataset/dataset ml/fake/32_20241130140243_A_close-up_shot_of_a_elderly_male_person_of_Hispan.jpg  \n",
            "  inflating: /content/dataset/dataset ml/fake/33_20241130140253_A_close-up_shot_of_a_middle-aged_genderqueer_perso.jpg  \n",
            "  inflating: /content/dataset/dataset ml/fake/34_20241130140302_A_close-up_shot_of_a_elderly_female_person_of_Midd.jpg  \n",
            "  inflating: /content/dataset/dataset ml/fake/35_20241130140313_A_close-up_shot_of_a_young_adult_male_person_of_Na.jpg  \n",
            "  inflating: /content/dataset/dataset ml/fake/36_20241130140325_A_close-up_shot_of_a_teenager_female_person_of_Afr.jpg  \n",
            "  inflating: /content/dataset/dataset ml/fake/37_20241130140344_A_close-up_shot_of_a_child_female_person_of_Africa.jpg  \n",
            "  inflating: /content/dataset/dataset ml/fake/38_20241130140402_A_close-up_shot_of_a_child_genderqueer_person_of_A.jpg  \n",
            "  inflating: /content/dataset/dataset ml/fake/39_20241130140416_A_close-up_shot_of_a_young_adult_non-binary_person.jpg  \n",
            "  inflating: /content/dataset/dataset ml/fake/4_20241130135641_A_close-up_shot_of_a_young_adult_genderqueer_perso.jpg  \n",
            "  inflating: /content/dataset/dataset ml/fake/40_20241130140429_A_close-up_shot_of_a_middle-aged_male_person_of_Hi.jpg  \n",
            "  inflating: /content/dataset/dataset ml/fake/41_20241130140441_A_close-up_shot_of_a_child_male_person_of_Mixed_ra.jpg  \n",
            "  inflating: /content/dataset/dataset ml/fake/42_20241130140451_A_close-up_shot_of_a_teenager_non-binary_person_of.jpg  \n",
            "  inflating: /content/dataset/dataset ml/fake/43_20241130140502_A_close-up_shot_of_a_child_genderqueer_person_of_P.jpg  \n",
            "  inflating: /content/dataset/dataset ml/fake/44_20241130140514_A_close-up_shot_of_a_child_female_person_of_Africa.jpg  \n",
            "  inflating: /content/dataset/dataset ml/fake/45_20241130140543_A_close-up_shot_of_a_young_adult_female_person_of_.jpg  \n",
            "  inflating: /content/dataset/dataset ml/fake/46_20241130140552_A_close-up_shot_of_a_child_female_person_of_Caucas.jpg  \n",
            "  inflating: /content/dataset/dataset ml/fake/47_20241130140610_A_close-up_shot_of_a_elderly_genderqueer_person_of.jpg  \n",
            "  inflating: /content/dataset/dataset ml/fake/48_20241130140629_A_close-up_shot_of_a_middle-aged_genderqueer_perso.jpg  \n",
            "  inflating: /content/dataset/dataset ml/fake/49_20241130140644_A_close-up_shot_of_a_middle-aged_genderqueer_perso.jpg  \n",
            "  inflating: /content/dataset/dataset ml/fake/5_20241130135652_A_close-up_shot_of_a_teenager_non-binary_person_of.jpg  \n",
            "  inflating: /content/dataset/dataset ml/fake/50_20241130140655_A_close-up_shot_of_a_teenager_non-binary_person_of.jpg  \n",
            "  inflating: /content/dataset/dataset ml/fake/51_20241130140714_A_close-up_shot_of_a_teenager_non-binary_person_of.jpg  \n",
            "  inflating: /content/dataset/dataset ml/fake/52_20241130140728_A_close-up_shot_of_a_teenager_male_person_of_Afric.jpg  \n",
            "  inflating: /content/dataset/dataset ml/fake/53_20241130140739_A_close-up_shot_of_a_young_adult_male_person_of_Pa.jpg  \n",
            "  inflating: /content/dataset/dataset ml/fake/54_20241130140750_A_close-up_shot_of_a_middle-aged_female_person_of_.jpg  \n",
            "  inflating: /content/dataset/dataset ml/fake/55_20241130140804_A_close-up_shot_of_a_young_adult_female_person_of_.jpg  \n",
            "  inflating: /content/dataset/dataset ml/fake/56_20241130140817_A_close-up_shot_of_a_elderly_genderqueer_person_of.jpg  \n",
            "  inflating: /content/dataset/dataset ml/fake/57_20241130140827_A_close-up_shot_of_a_elderly_male_person_of_Africa.jpg  \n",
            "  inflating: /content/dataset/dataset ml/fake/58_20241130140840_A_close-up_shot_of_a_elderly_male_person_of_Asian_.jpg  \n",
            "  inflating: /content/dataset/dataset ml/fake/59_20241130140855_A_close-up_shot_of_a_child_non-binary_person_of_Pa.jpg  \n",
            "  inflating: /content/dataset/dataset ml/fake/6_20241130135656_A_close-up_shot_of_a_child_genderqueer_person_of_M.jpg  \n",
            "  inflating: /content/dataset/dataset ml/fake/60_20241130140904_A_close-up_shot_of_a_teenager_non-binary_person_of.jpg  \n",
            "  inflating: /content/dataset/dataset ml/fake/61_20241130140916_A_close-up_shot_of_a_young_adult_male_person_of_Na.jpg  \n",
            "  inflating: /content/dataset/dataset ml/fake/62_20241130140933_A_close-up_shot_of_a_middle-aged_genderqueer_perso.jpg  \n",
            "  inflating: /content/dataset/dataset ml/fake/63_20241130140946_A_close-up_shot_of_a_child_non-binary_person_of_Ca.jpg  \n",
            "  inflating: /content/dataset/dataset ml/fake/64_20241130140955_A_close-up_shot_of_a_teenager_non-binary_person_of.jpg  \n",
            "  inflating: /content/dataset/dataset ml/fake/65_20241130141010_A_close-up_shot_of_a_elderly_genderqueer_person_of.jpg  \n",
            "  inflating: /content/dataset/dataset ml/fake/66_20241130141021_A_close-up_shot_of_a_young_adult_non-binary_person.jpg  \n",
            "  inflating: /content/dataset/dataset ml/fake/67_20241130141035_A_close-up_shot_of_a_child_male_person_of_Mixed_ra.jpg  \n",
            "  inflating: /content/dataset/dataset ml/fake/68_20241130141045_A_close-up_shot_of_a_young_adult_female_person_of_.jpg  \n",
            "  inflating: /content/dataset/dataset ml/fake/69_20241130141056_A_close-up_shot_of_a_teenager_male_person_of_Nativ.jpg  \n",
            "  inflating: /content/dataset/dataset ml/fake/7_20241130135705_A_close-up_shot_of_a_teenager_genderqueer_person_o.jpg  \n",
            "  inflating: /content/dataset/dataset ml/fake/70_20241130141107_A_close-up_shot_of_a_middle-aged_female_person_of_.jpg  \n",
            "  inflating: /content/dataset/dataset ml/fake/71_20241130141128_A_close-up_shot_of_a_middle-aged_female_person_of_.jpg  \n",
            "  inflating: /content/dataset/dataset ml/fake/72_20241130141148_A_close-up_shot_of_a_middle-aged_male_person_of_Ca.jpg  \n",
            "  inflating: /content/dataset/dataset ml/fake/73_20241130141203_A_close-up_shot_of_a_young_adult_genderqueer_perso.jpg  \n",
            "  inflating: /content/dataset/dataset ml/fake/74_20241130141215_A_close-up_shot_of_a_child_male_person_of_African_.jpg  \n",
            "  inflating: /content/dataset/dataset ml/fake/75_20241130141229_A_close-up_shot_of_a_elderly_non-binary_person_of_.jpg  \n",
            "  inflating: /content/dataset/dataset ml/fake/76_20241130141242_A_close-up_shot_of_a_teenager_male_person_of_Nativ.jpg  \n",
            "  inflating: /content/dataset/dataset ml/fake/77_20241130141251_A_close-up_shot_of_a_young_adult_male_person_of_Ca.jpg  \n",
            "  inflating: /content/dataset/dataset ml/fake/78_20241130141300_A_close-up_shot_of_a_elderly_genderqueer_person_of.jpg  \n",
            "  inflating: /content/dataset/dataset ml/fake/79_20241130141312_A_close-up_shot_of_a_young_adult_genderqueer_perso.jpg  \n",
            "  inflating: /content/dataset/dataset ml/fake/8_20241130135714_A_close-up_shot_of_a_young_adult_male_person_of_Af.jpg  \n",
            "  inflating: /content/dataset/dataset ml/fake/80_20241130141323_A_close-up_shot_of_a_child_non-binary_person_of_Pa.jpg  \n",
            "  inflating: /content/dataset/dataset ml/fake/81_20241130141337_A_close-up_shot_of_a_elderly_male_person_of_Hispan.jpg  \n",
            "  inflating: /content/dataset/dataset ml/fake/82_20241130141406_A_close-up_shot_of_a_teenager_male_person_of_Middl.jpg  \n",
            "  inflating: /content/dataset/dataset ml/fake/83_20241130141421_A_close-up_shot_of_a_child_male_person_of_African_.jpg  \n",
            "  inflating: /content/dataset/dataset ml/fake/84_20241130141437_A_close-up_shot_of_a_elderly_non-binary_person_of_.jpg  \n",
            "  inflating: /content/dataset/dataset ml/fake/85_20241130141452_A_close-up_shot_of_a_middle-aged_male_person_of_Pa.jpg  \n",
            "  inflating: /content/dataset/dataset ml/fake/86_20241130141503_A_close-up_shot_of_a_middle-aged_female_person_of_.jpg  \n",
            "  inflating: /content/dataset/dataset ml/fake/87_20241130141514_A_close-up_shot_of_a_elderly_female_person_of_Midd.jpg  \n",
            "  inflating: /content/dataset/dataset ml/fake/88_20241130141524_A_close-up_shot_of_a_child_male_person_of_Asian_de.jpg  \n",
            "  inflating: /content/dataset/dataset ml/fake/89_20241130141546_A_close-up_shot_of_a_elderly_male_person_of_Caucas.jpg  \n",
            "  inflating: /content/dataset/dataset ml/fake/9_20241130135729_A_close-up_shot_of_a_elderly_female_person_of_Afri.jpg  \n",
            "  inflating: /content/dataset/dataset ml/fake/90_20241130141617_A_close-up_shot_of_a_teenager_female_person_of_Pac.jpg  \n",
            "  inflating: /content/dataset/dataset ml/fake/91_20241130141628_A_close-up_shot_of_a_middle-aged_non-binary_person.jpg  \n",
            "  inflating: /content/dataset/dataset ml/fake/92_20241130141634_A_close-up_shot_of_a_teenager_non-binary_person_of.jpg  \n",
            "  inflating: /content/dataset/dataset ml/fake/93_20241130141644_A_close-up_shot_of_a_young_adult_female_person_of_.jpg  \n",
            "  inflating: /content/dataset/dataset ml/fake/94_20241130141654_A_close-up_shot_of_a_teenager_male_person_of_Asian.jpg  \n",
            "  inflating: /content/dataset/dataset ml/fake/95_20241130141708_A_close-up_shot_of_a_teenager_non-binary_person_of.jpg  \n",
            "  inflating: /content/dataset/dataset ml/fake/96_20241130141720_A_close-up_shot_of_a_young_adult_genderqueer_perso.jpg  \n",
            "  inflating: /content/dataset/dataset ml/fake/97_20241130141736_A_close-up_shot_of_a_elderly_male_person_of_Africa.jpg  \n",
            "  inflating: /content/dataset/dataset ml/fake/98_20241130141749_A_close-up_shot_of_a_child_female_person_of_Pacifi.jpg  \n"
          ]
        }
      ]
    },
    {
      "cell_type": "code",
      "source": [
        "2# 📌 STEP 3: Load dataset (modify this according to your dataset path)\n",
        "\n",
        "# Suppose your structure is:\n",
        "# /content/data/real/*.jpg\n",
        "# /content/data/fake/*.jpg\n",
        "\n",
        "real_path = \"/content/dataset/dataset ml/real\"\n",
        "fake_path = \"/content/dataset/dataset ml/fake\"\n",
        "\n",
        "IMG_SIZE = 150\n",
        "\n",
        "def load_images_from_folder(folder, label):\n",
        "    images = []\n",
        "    for filename in os.listdir(folder):\n",
        "        path = os.path.join(folder, filename)\n",
        "        try:\n",
        "            img = cv2.imread(path)\n",
        "            img = cv2.resize(img, (IMG_SIZE, IMG_SIZE))\n",
        "            images.append((img, label))\n",
        "        except:\n",
        "            pass\n",
        "    return images\n",
        "\n",
        "real_images = load_images_from_folder(real_path, 0)\n",
        "fake_images = load_images_from_folder(fake_path, 1)\n",
        "\n",
        "data = real_images + fake_images\n",
        "np.random.shuffle(data)\n",
        "\n",
        "X = np.array([i[0] for i in data]) / 255.0\n",
        "y = np.array([i[1] for i in data])\n"
      ],
      "metadata": {
        "id": "ILnD0jBrlzY_"
      },
      "execution_count": 5,
      "outputs": []
    },
    {
      "cell_type": "code",
      "source": [
        "# 📌 STEP 4: Split data\n",
        "X_train, X_test, y_train, y_test = train_test_split(X, y, test_size=0.2, random_state=42)\n"
      ],
      "metadata": {
        "id": "qK-w8S_imR3v"
      },
      "execution_count": 6,
      "outputs": []
    },
    {
      "cell_type": "code",
      "source": [
        "# 📌 STEP 5: Create CNN Model\n",
        "model = Sequential([\n",
        "    Conv2D(32, (3,3), activation='relu', input_shape=(IMG_SIZE, IMG_SIZE, 3)),\n",
        "    MaxPooling2D(2,2),\n",
        "\n",
        "    Conv2D(64, (3,3), activation='relu'),\n",
        "    MaxPooling2D(2,2),\n",
        "\n",
        "    Conv2D(128, (3,3), activation='relu'),\n",
        "    MaxPooling2D(2,2),\n",
        "\n",
        "    Flatten(),\n",
        "    Dense(128, activation='relu'),\n",
        "    Dropout(0.5),\n",
        "    Dense(1, activation='sigmoid')\n",
        "])\n",
        "\n",
        "model.compile(optimizer='adam', loss='binary_crossentropy', metrics=['accuracy'])\n",
        "model.summary()\n"
      ],
      "metadata": {
        "id": "gv_9vKWHmUaW",
        "colab": {
          "base_uri": "https://localhost:8080/",
          "height": 524
        },
        "outputId": "2c25191e-f5c6-4a08-c901-d6d6edec72ec"
      },
      "execution_count": 7,
      "outputs": [
        {
          "output_type": "stream",
          "name": "stderr",
          "text": [
            "/usr/local/lib/python3.11/dist-packages/keras/src/layers/convolutional/base_conv.py:113: UserWarning: Do not pass an `input_shape`/`input_dim` argument to a layer. When using Sequential models, prefer using an `Input(shape)` object as the first layer in the model instead.\n",
            "  super().__init__(activity_regularizer=activity_regularizer, **kwargs)\n"
          ]
        },
        {
          "output_type": "display_data",
          "data": {
            "text/plain": [
              "\u001b[1mModel: \"sequential\"\u001b[0m\n"
            ],
            "text/html": [
              "<pre style=\"white-space:pre;overflow-x:auto;line-height:normal;font-family:Menlo,'DejaVu Sans Mono',consolas,'Courier New',monospace\"><span style=\"font-weight: bold\">Model: \"sequential\"</span>\n",
              "</pre>\n"
            ]
          },
          "metadata": {}
        },
        {
          "output_type": "display_data",
          "data": {
            "text/plain": [
              "┏━━━━━━━━━━━━━━━━━━━━━━━━━━━━━━━━━┳━━━━━━━━━━━━━━━━━━━━━━━━┳━━━━━━━━━━━━━━━┓\n",
              "┃\u001b[1m \u001b[0m\u001b[1mLayer (type)                   \u001b[0m\u001b[1m \u001b[0m┃\u001b[1m \u001b[0m\u001b[1mOutput Shape          \u001b[0m\u001b[1m \u001b[0m┃\u001b[1m \u001b[0m\u001b[1m      Param #\u001b[0m\u001b[1m \u001b[0m┃\n",
              "┡━━━━━━━━━━━━━━━━━━━━━━━━━━━━━━━━━╇━━━━━━━━━━━━━━━━━━━━━━━━╇━━━━━━━━━━━━━━━┩\n",
              "│ conv2d (\u001b[38;5;33mConv2D\u001b[0m)                 │ (\u001b[38;5;45mNone\u001b[0m, \u001b[38;5;34m148\u001b[0m, \u001b[38;5;34m148\u001b[0m, \u001b[38;5;34m32\u001b[0m)   │           \u001b[38;5;34m896\u001b[0m │\n",
              "├─────────────────────────────────┼────────────────────────┼───────────────┤\n",
              "│ max_pooling2d (\u001b[38;5;33mMaxPooling2D\u001b[0m)    │ (\u001b[38;5;45mNone\u001b[0m, \u001b[38;5;34m74\u001b[0m, \u001b[38;5;34m74\u001b[0m, \u001b[38;5;34m32\u001b[0m)     │             \u001b[38;5;34m0\u001b[0m │\n",
              "├─────────────────────────────────┼────────────────────────┼───────────────┤\n",
              "│ conv2d_1 (\u001b[38;5;33mConv2D\u001b[0m)               │ (\u001b[38;5;45mNone\u001b[0m, \u001b[38;5;34m72\u001b[0m, \u001b[38;5;34m72\u001b[0m, \u001b[38;5;34m64\u001b[0m)     │        \u001b[38;5;34m18,496\u001b[0m │\n",
              "├─────────────────────────────────┼────────────────────────┼───────────────┤\n",
              "│ max_pooling2d_1 (\u001b[38;5;33mMaxPooling2D\u001b[0m)  │ (\u001b[38;5;45mNone\u001b[0m, \u001b[38;5;34m36\u001b[0m, \u001b[38;5;34m36\u001b[0m, \u001b[38;5;34m64\u001b[0m)     │             \u001b[38;5;34m0\u001b[0m │\n",
              "├─────────────────────────────────┼────────────────────────┼───────────────┤\n",
              "│ conv2d_2 (\u001b[38;5;33mConv2D\u001b[0m)               │ (\u001b[38;5;45mNone\u001b[0m, \u001b[38;5;34m34\u001b[0m, \u001b[38;5;34m34\u001b[0m, \u001b[38;5;34m128\u001b[0m)    │        \u001b[38;5;34m73,856\u001b[0m │\n",
              "├─────────────────────────────────┼────────────────────────┼───────────────┤\n",
              "│ max_pooling2d_2 (\u001b[38;5;33mMaxPooling2D\u001b[0m)  │ (\u001b[38;5;45mNone\u001b[0m, \u001b[38;5;34m17\u001b[0m, \u001b[38;5;34m17\u001b[0m, \u001b[38;5;34m128\u001b[0m)    │             \u001b[38;5;34m0\u001b[0m │\n",
              "├─────────────────────────────────┼────────────────────────┼───────────────┤\n",
              "│ flatten (\u001b[38;5;33mFlatten\u001b[0m)               │ (\u001b[38;5;45mNone\u001b[0m, \u001b[38;5;34m36992\u001b[0m)          │             \u001b[38;5;34m0\u001b[0m │\n",
              "├─────────────────────────────────┼────────────────────────┼───────────────┤\n",
              "│ dense (\u001b[38;5;33mDense\u001b[0m)                   │ (\u001b[38;5;45mNone\u001b[0m, \u001b[38;5;34m128\u001b[0m)            │     \u001b[38;5;34m4,735,104\u001b[0m │\n",
              "├─────────────────────────────────┼────────────────────────┼───────────────┤\n",
              "│ dropout (\u001b[38;5;33mDropout\u001b[0m)               │ (\u001b[38;5;45mNone\u001b[0m, \u001b[38;5;34m128\u001b[0m)            │             \u001b[38;5;34m0\u001b[0m │\n",
              "├─────────────────────────────────┼────────────────────────┼───────────────┤\n",
              "│ dense_1 (\u001b[38;5;33mDense\u001b[0m)                 │ (\u001b[38;5;45mNone\u001b[0m, \u001b[38;5;34m1\u001b[0m)              │           \u001b[38;5;34m129\u001b[0m │\n",
              "└─────────────────────────────────┴────────────────────────┴───────────────┘\n"
            ],
            "text/html": [
              "<pre style=\"white-space:pre;overflow-x:auto;line-height:normal;font-family:Menlo,'DejaVu Sans Mono',consolas,'Courier New',monospace\">┏━━━━━━━━━━━━━━━━━━━━━━━━━━━━━━━━━┳━━━━━━━━━━━━━━━━━━━━━━━━┳━━━━━━━━━━━━━━━┓\n",
              "┃<span style=\"font-weight: bold\"> Layer (type)                    </span>┃<span style=\"font-weight: bold\"> Output Shape           </span>┃<span style=\"font-weight: bold\">       Param # </span>┃\n",
              "┡━━━━━━━━━━━━━━━━━━━━━━━━━━━━━━━━━╇━━━━━━━━━━━━━━━━━━━━━━━━╇━━━━━━━━━━━━━━━┩\n",
              "│ conv2d (<span style=\"color: #0087ff; text-decoration-color: #0087ff\">Conv2D</span>)                 │ (<span style=\"color: #00d7ff; text-decoration-color: #00d7ff\">None</span>, <span style=\"color: #00af00; text-decoration-color: #00af00\">148</span>, <span style=\"color: #00af00; text-decoration-color: #00af00\">148</span>, <span style=\"color: #00af00; text-decoration-color: #00af00\">32</span>)   │           <span style=\"color: #00af00; text-decoration-color: #00af00\">896</span> │\n",
              "├─────────────────────────────────┼────────────────────────┼───────────────┤\n",
              "│ max_pooling2d (<span style=\"color: #0087ff; text-decoration-color: #0087ff\">MaxPooling2D</span>)    │ (<span style=\"color: #00d7ff; text-decoration-color: #00d7ff\">None</span>, <span style=\"color: #00af00; text-decoration-color: #00af00\">74</span>, <span style=\"color: #00af00; text-decoration-color: #00af00\">74</span>, <span style=\"color: #00af00; text-decoration-color: #00af00\">32</span>)     │             <span style=\"color: #00af00; text-decoration-color: #00af00\">0</span> │\n",
              "├─────────────────────────────────┼────────────────────────┼───────────────┤\n",
              "│ conv2d_1 (<span style=\"color: #0087ff; text-decoration-color: #0087ff\">Conv2D</span>)               │ (<span style=\"color: #00d7ff; text-decoration-color: #00d7ff\">None</span>, <span style=\"color: #00af00; text-decoration-color: #00af00\">72</span>, <span style=\"color: #00af00; text-decoration-color: #00af00\">72</span>, <span style=\"color: #00af00; text-decoration-color: #00af00\">64</span>)     │        <span style=\"color: #00af00; text-decoration-color: #00af00\">18,496</span> │\n",
              "├─────────────────────────────────┼────────────────────────┼───────────────┤\n",
              "│ max_pooling2d_1 (<span style=\"color: #0087ff; text-decoration-color: #0087ff\">MaxPooling2D</span>)  │ (<span style=\"color: #00d7ff; text-decoration-color: #00d7ff\">None</span>, <span style=\"color: #00af00; text-decoration-color: #00af00\">36</span>, <span style=\"color: #00af00; text-decoration-color: #00af00\">36</span>, <span style=\"color: #00af00; text-decoration-color: #00af00\">64</span>)     │             <span style=\"color: #00af00; text-decoration-color: #00af00\">0</span> │\n",
              "├─────────────────────────────────┼────────────────────────┼───────────────┤\n",
              "│ conv2d_2 (<span style=\"color: #0087ff; text-decoration-color: #0087ff\">Conv2D</span>)               │ (<span style=\"color: #00d7ff; text-decoration-color: #00d7ff\">None</span>, <span style=\"color: #00af00; text-decoration-color: #00af00\">34</span>, <span style=\"color: #00af00; text-decoration-color: #00af00\">34</span>, <span style=\"color: #00af00; text-decoration-color: #00af00\">128</span>)    │        <span style=\"color: #00af00; text-decoration-color: #00af00\">73,856</span> │\n",
              "├─────────────────────────────────┼────────────────────────┼───────────────┤\n",
              "│ max_pooling2d_2 (<span style=\"color: #0087ff; text-decoration-color: #0087ff\">MaxPooling2D</span>)  │ (<span style=\"color: #00d7ff; text-decoration-color: #00d7ff\">None</span>, <span style=\"color: #00af00; text-decoration-color: #00af00\">17</span>, <span style=\"color: #00af00; text-decoration-color: #00af00\">17</span>, <span style=\"color: #00af00; text-decoration-color: #00af00\">128</span>)    │             <span style=\"color: #00af00; text-decoration-color: #00af00\">0</span> │\n",
              "├─────────────────────────────────┼────────────────────────┼───────────────┤\n",
              "│ flatten (<span style=\"color: #0087ff; text-decoration-color: #0087ff\">Flatten</span>)               │ (<span style=\"color: #00d7ff; text-decoration-color: #00d7ff\">None</span>, <span style=\"color: #00af00; text-decoration-color: #00af00\">36992</span>)          │             <span style=\"color: #00af00; text-decoration-color: #00af00\">0</span> │\n",
              "├─────────────────────────────────┼────────────────────────┼───────────────┤\n",
              "│ dense (<span style=\"color: #0087ff; text-decoration-color: #0087ff\">Dense</span>)                   │ (<span style=\"color: #00d7ff; text-decoration-color: #00d7ff\">None</span>, <span style=\"color: #00af00; text-decoration-color: #00af00\">128</span>)            │     <span style=\"color: #00af00; text-decoration-color: #00af00\">4,735,104</span> │\n",
              "├─────────────────────────────────┼────────────────────────┼───────────────┤\n",
              "│ dropout (<span style=\"color: #0087ff; text-decoration-color: #0087ff\">Dropout</span>)               │ (<span style=\"color: #00d7ff; text-decoration-color: #00d7ff\">None</span>, <span style=\"color: #00af00; text-decoration-color: #00af00\">128</span>)            │             <span style=\"color: #00af00; text-decoration-color: #00af00\">0</span> │\n",
              "├─────────────────────────────────┼────────────────────────┼───────────────┤\n",
              "│ dense_1 (<span style=\"color: #0087ff; text-decoration-color: #0087ff\">Dense</span>)                 │ (<span style=\"color: #00d7ff; text-decoration-color: #00d7ff\">None</span>, <span style=\"color: #00af00; text-decoration-color: #00af00\">1</span>)              │           <span style=\"color: #00af00; text-decoration-color: #00af00\">129</span> │\n",
              "└─────────────────────────────────┴────────────────────────┴───────────────┘\n",
              "</pre>\n"
            ]
          },
          "metadata": {}
        },
        {
          "output_type": "display_data",
          "data": {
            "text/plain": [
              "\u001b[1m Total params: \u001b[0m\u001b[38;5;34m4,828,481\u001b[0m (18.42 MB)\n"
            ],
            "text/html": [
              "<pre style=\"white-space:pre;overflow-x:auto;line-height:normal;font-family:Menlo,'DejaVu Sans Mono',consolas,'Courier New',monospace\"><span style=\"font-weight: bold\"> Total params: </span><span style=\"color: #00af00; text-decoration-color: #00af00\">4,828,481</span> (18.42 MB)\n",
              "</pre>\n"
            ]
          },
          "metadata": {}
        },
        {
          "output_type": "display_data",
          "data": {
            "text/plain": [
              "\u001b[1m Trainable params: \u001b[0m\u001b[38;5;34m4,828,481\u001b[0m (18.42 MB)\n"
            ],
            "text/html": [
              "<pre style=\"white-space:pre;overflow-x:auto;line-height:normal;font-family:Menlo,'DejaVu Sans Mono',consolas,'Courier New',monospace\"><span style=\"font-weight: bold\"> Trainable params: </span><span style=\"color: #00af00; text-decoration-color: #00af00\">4,828,481</span> (18.42 MB)\n",
              "</pre>\n"
            ]
          },
          "metadata": {}
        },
        {
          "output_type": "display_data",
          "data": {
            "text/plain": [
              "\u001b[1m Non-trainable params: \u001b[0m\u001b[38;5;34m0\u001b[0m (0.00 B)\n"
            ],
            "text/html": [
              "<pre style=\"white-space:pre;overflow-x:auto;line-height:normal;font-family:Menlo,'DejaVu Sans Mono',consolas,'Courier New',monospace\"><span style=\"font-weight: bold\"> Non-trainable params: </span><span style=\"color: #00af00; text-decoration-color: #00af00\">0</span> (0.00 B)\n",
              "</pre>\n"
            ]
          },
          "metadata": {}
        }
      ]
    },
    {
      "cell_type": "code",
      "source": [
        "# 📌 STEP 6: Train model\n",
        "history = model.fit(X_train, y_train, validation_data=(X_test, y_test), epochs=10, batch_size=32)\n"
      ],
      "metadata": {
        "id": "YIbPVqEMmVim",
        "colab": {
          "base_uri": "https://localhost:8080/",
          "height": 0
        },
        "outputId": "c71d1b04-2033-414f-f90f-62d4dfbe0f6d"
      },
      "execution_count": 9,
      "outputs": [
        {
          "output_type": "stream",
          "name": "stdout",
          "text": [
            "Epoch 1/10\n",
            "\u001b[1m5/5\u001b[0m \u001b[32m━━━━━━━━━━━━━━━━━━━━\u001b[0m\u001b[37m\u001b[0m \u001b[1m0s\u001b[0m 60ms/step - accuracy: 1.0000 - loss: 0.0042 - val_accuracy: 1.0000 - val_loss: 0.0030\n",
            "Epoch 2/10\n",
            "\u001b[1m5/5\u001b[0m \u001b[32m━━━━━━━━━━━━━━━━━━━━\u001b[0m\u001b[37m\u001b[0m \u001b[1m0s\u001b[0m 45ms/step - accuracy: 1.0000 - loss: 6.8457e-04 - val_accuracy: 1.0000 - val_loss: 1.3417e-04\n",
            "Epoch 3/10\n",
            "\u001b[1m5/5\u001b[0m \u001b[32m━━━━━━━━━━━━━━━━━━━━\u001b[0m\u001b[37m\u001b[0m \u001b[1m0s\u001b[0m 40ms/step - accuracy: 0.9966 - loss: 0.0065 - val_accuracy: 1.0000 - val_loss: 0.0032\n",
            "Epoch 4/10\n",
            "\u001b[1m5/5\u001b[0m \u001b[32m━━━━━━━━━━━━━━━━━━━━\u001b[0m\u001b[37m\u001b[0m \u001b[1m0s\u001b[0m 38ms/step - accuracy: 0.9923 - loss: 0.0166 - val_accuracy: 1.0000 - val_loss: 0.0014\n",
            "Epoch 5/10\n",
            "\u001b[1m5/5\u001b[0m \u001b[32m━━━━━━━━━━━━━━━━━━━━\u001b[0m\u001b[37m\u001b[0m \u001b[1m0s\u001b[0m 38ms/step - accuracy: 1.0000 - loss: 0.0052 - val_accuracy: 1.0000 - val_loss: 0.0023\n",
            "Epoch 6/10\n",
            "\u001b[1m5/5\u001b[0m \u001b[32m━━━━━━━━━━━━━━━━━━━━\u001b[0m\u001b[37m\u001b[0m \u001b[1m0s\u001b[0m 38ms/step - accuracy: 0.9871 - loss: 0.0220 - val_accuracy: 1.0000 - val_loss: 5.6636e-04\n",
            "Epoch 7/10\n",
            "\u001b[1m5/5\u001b[0m \u001b[32m━━━━━━━━━━━━━━━━━━━━\u001b[0m\u001b[37m\u001b[0m \u001b[1m0s\u001b[0m 47ms/step - accuracy: 1.0000 - loss: 0.0035 - val_accuracy: 1.0000 - val_loss: 0.0018\n",
            "Epoch 8/10\n",
            "\u001b[1m5/5\u001b[0m \u001b[32m━━━━━━━━━━━━━━━━━━━━\u001b[0m\u001b[37m\u001b[0m \u001b[1m0s\u001b[0m 38ms/step - accuracy: 1.0000 - loss: 0.0023 - val_accuracy: 1.0000 - val_loss: 4.4620e-04\n",
            "Epoch 9/10\n",
            "\u001b[1m5/5\u001b[0m \u001b[32m━━━━━━━━━━━━━━━━━━━━\u001b[0m\u001b[37m\u001b[0m \u001b[1m0s\u001b[0m 38ms/step - accuracy: 1.0000 - loss: 0.0020 - val_accuracy: 1.0000 - val_loss: 1.1858e-04\n",
            "Epoch 10/10\n",
            "\u001b[1m5/5\u001b[0m \u001b[32m━━━━━━━━━━━━━━━━━━━━\u001b[0m\u001b[37m\u001b[0m \u001b[1m0s\u001b[0m 41ms/step - accuracy: 1.0000 - loss: 3.9884e-04 - val_accuracy: 1.0000 - val_loss: 9.9723e-05\n"
          ]
        }
      ]
    },
    {
      "cell_type": "code",
      "source": [
        "# 📌 STEP 7: Evaluate model\n",
        "y_pred = model.predict(X_test) > 0.5\n",
        "print(classification_report(y_test, y_pred))\n"
      ],
      "metadata": {
        "id": "bTRKLstFmYpe",
        "colab": {
          "base_uri": "https://localhost:8080/",
          "height": 0
        },
        "outputId": "8c7c6ca3-3153-4011-b133-334c6d1b673e"
      },
      "execution_count": 10,
      "outputs": [
        {
          "output_type": "stream",
          "name": "stdout",
          "text": [
            "\u001b[1m2/2\u001b[0m \u001b[32m━━━━━━━━━━━━━━━━━━━━\u001b[0m\u001b[37m\u001b[0m \u001b[1m1s\u001b[0m 602ms/step\n",
            "              precision    recall  f1-score   support\n",
            "\n",
            "           0       1.00      1.00      1.00        17\n",
            "           1       1.00      1.00      1.00        24\n",
            "\n",
            "    accuracy                           1.00        41\n",
            "   macro avg       1.00      1.00      1.00        41\n",
            "weighted avg       1.00      1.00      1.00        41\n",
            "\n"
          ]
        }
      ]
    },
    {
      "cell_type": "code",
      "source": [
        "# 📌 STEP 8: Build GUI for prediction\n",
        "def classify_image(img):\n",
        "    img = cv2.resize(img, (IMG_SIZE, IMG_SIZE))\n",
        "    img = img / 255.0\n",
        "    img = np.expand_dims(img, axis=0)\n",
        "    prediction = model.predict(img)[0][0]\n",
        "    label = \"🟢 Real Image\" if prediction < 0.5 else \"🔴 AI/Fake Image\"\n",
        "    confidence = 1 - prediction if prediction < 0.5 else prediction\n",
        "    return f\"{label}\\nConfidence: {confidence*100:.2f}%\"\n",
        "\n",
        "gui = gr.Interface(\n",
        "    fn=classify_image,\n",
        "    inputs=gr.Image(type=\"numpy\", label=\"Upload an Image\"),\n",
        "    outputs=gr.Textbox(label=\"Prediction\"),\n",
        "    title=\"🔍 Real vs AI-Fake Image Detector\",\n",
        "    description=\"Upload an image to check if it's real or AI-generated. Model trained on custom dataset.\"\n",
        ")\n",
        "\n",
        "gui.launch(debug=True)\n"
      ],
      "metadata": {
        "colab": {
          "base_uri": "https://localhost:8080/",
          "height": 1826
        },
        "id": "LSTd-XxxmgDO",
        "outputId": "69c0060d-0814-402e-b1d7-0eb799ffd55b"
      },
      "execution_count": null,
      "outputs": [
        {
          "output_type": "stream",
          "name": "stdout",
          "text": [
            "It looks like you are running Gradio on a hosted Jupyter notebook, which requires `share=True`. Automatically setting `share=True` (you can turn this off by setting `share=False` in `launch()` explicitly).\n",
            "\n",
            "Colab notebook detected. This cell will run indefinitely so that you can see errors and logs. To turn off, set debug=False in launch().\n",
            "* Running on public URL: https://e87ef8c06b0edb26c3.gradio.live\n",
            "\n",
            "This share link expires in 1 week. For free permanent hosting and GPU upgrades, run `gradio deploy` from the terminal in the working directory to deploy to Hugging Face Spaces (https://huggingface.co/spaces)\n"
          ]
        },
        {
          "output_type": "display_data",
          "data": {
            "text/plain": [
              "<IPython.core.display.HTML object>"
            ],
            "text/html": [
              "<div><iframe src=\"https://e87ef8c06b0edb26c3.gradio.live\" width=\"100%\" height=\"500\" allow=\"autoplay; camera; microphone; clipboard-read; clipboard-write;\" frameborder=\"0\" allowfullscreen></iframe></div>"
            ]
          },
          "metadata": {}
        },
        {
          "output_type": "stream",
          "name": "stdout",
          "text": [
            "\u001b[1m1/1\u001b[0m \u001b[32m━━━━━━━━━━━━━━━━━━━━\u001b[0m\u001b[37m\u001b[0m \u001b[1m1s\u001b[0m 608ms/step\n",
            "\u001b[1m1/1\u001b[0m \u001b[32m━━━━━━━━━━━━━━━━━━━━\u001b[0m\u001b[37m\u001b[0m \u001b[1m0s\u001b[0m 30ms/step\n",
            "\u001b[1m1/1\u001b[0m \u001b[32m━━━━━━━━━━━━━━━━━━━━\u001b[0m\u001b[37m\u001b[0m \u001b[1m0s\u001b[0m 30ms/step\n",
            "\u001b[1m1/1\u001b[0m \u001b[32m━━━━━━━━━━━━━━━━━━━━\u001b[0m\u001b[37m\u001b[0m \u001b[1m0s\u001b[0m 30ms/step\n",
            "\u001b[1m1/1\u001b[0m \u001b[32m━━━━━━━━━━━━━━━━━━━━\u001b[0m\u001b[37m\u001b[0m \u001b[1m0s\u001b[0m 30ms/step\n",
            "\u001b[1m1/1\u001b[0m \u001b[32m━━━━━━━━━━━━━━━━━━━━\u001b[0m\u001b[37m\u001b[0m \u001b[1m0s\u001b[0m 33ms/step\n",
            "\u001b[1m1/1\u001b[0m \u001b[32m━━━━━━━━━━━━━━━━━━━━\u001b[0m\u001b[37m\u001b[0m \u001b[1m0s\u001b[0m 37ms/step\n",
            "\u001b[1m1/1\u001b[0m \u001b[32m━━━━━━━━━━━━━━━━━━━━\u001b[0m\u001b[37m\u001b[0m \u001b[1m0s\u001b[0m 30ms/step\n",
            "\u001b[1m1/1\u001b[0m \u001b[32m━━━━━━━━━━━━━━━━━━━━\u001b[0m\u001b[37m\u001b[0m \u001b[1m0s\u001b[0m 30ms/step\n",
            "\u001b[1m1/1\u001b[0m \u001b[32m━━━━━━━━━━━━━━━━━━━━\u001b[0m\u001b[37m\u001b[0m \u001b[1m0s\u001b[0m 29ms/step\n",
            "\u001b[1m1/1\u001b[0m \u001b[32m━━━━━━━━━━━━━━━━━━━━\u001b[0m\u001b[37m\u001b[0m \u001b[1m0s\u001b[0m 30ms/step\n",
            "\u001b[1m1/1\u001b[0m \u001b[32m━━━━━━━━━━━━━━━━━━━━\u001b[0m\u001b[37m\u001b[0m \u001b[1m0s\u001b[0m 30ms/step\n",
            "\u001b[1m1/1\u001b[0m \u001b[32m━━━━━━━━━━━━━━━━━━━━\u001b[0m\u001b[37m\u001b[0m \u001b[1m0s\u001b[0m 29ms/step\n",
            "\u001b[1m1/1\u001b[0m \u001b[32m━━━━━━━━━━━━━━━━━━━━\u001b[0m\u001b[37m\u001b[0m \u001b[1m0s\u001b[0m 64ms/step\n",
            "\u001b[1m1/1\u001b[0m \u001b[32m━━━━━━━━━━━━━━━━━━━━\u001b[0m\u001b[37m\u001b[0m \u001b[1m0s\u001b[0m 31ms/step\n",
            "\u001b[1m1/1\u001b[0m \u001b[32m━━━━━━━━━━━━━━━━━━━━\u001b[0m\u001b[37m\u001b[0m \u001b[1m0s\u001b[0m 31ms/step\n",
            "\u001b[1m1/1\u001b[0m \u001b[32m━━━━━━━━━━━━━━━━━━━━\u001b[0m\u001b[37m\u001b[0m \u001b[1m0s\u001b[0m 31ms/step\n",
            "\u001b[1m1/1\u001b[0m \u001b[32m━━━━━━━━━━━━━━━━━━━━\u001b[0m\u001b[37m\u001b[0m \u001b[1m0s\u001b[0m 29ms/step\n",
            "\u001b[1m1/1\u001b[0m \u001b[32m━━━━━━━━━━━━━━━━━━━━\u001b[0m\u001b[37m\u001b[0m \u001b[1m0s\u001b[0m 30ms/step\n",
            "\u001b[1m1/1\u001b[0m \u001b[32m━━━━━━━━━━━━━━━━━━━━\u001b[0m\u001b[37m\u001b[0m \u001b[1m0s\u001b[0m 30ms/step\n",
            "\u001b[1m1/1\u001b[0m \u001b[32m━━━━━━━━━━━━━━━━━━━━\u001b[0m\u001b[37m\u001b[0m \u001b[1m0s\u001b[0m 43ms/step\n",
            "\u001b[1m1/1\u001b[0m \u001b[32m━━━━━━━━━━━━━━━━━━━━\u001b[0m\u001b[37m\u001b[0m \u001b[1m0s\u001b[0m 30ms/step\n",
            "\u001b[1m1/1\u001b[0m \u001b[32m━━━━━━━━━━━━━━━━━━━━\u001b[0m\u001b[37m\u001b[0m \u001b[1m0s\u001b[0m 32ms/step\n",
            "\u001b[1m1/1\u001b[0m \u001b[32m━━━━━━━━━━━━━━━━━━━━\u001b[0m\u001b[37m\u001b[0m \u001b[1m0s\u001b[0m 30ms/step\n",
            "\u001b[1m1/1\u001b[0m \u001b[32m━━━━━━━━━━━━━━━━━━━━\u001b[0m\u001b[37m\u001b[0m \u001b[1m0s\u001b[0m 44ms/step\n",
            "\u001b[1m1/1\u001b[0m \u001b[32m━━━━━━━━━━━━━━━━━━━━\u001b[0m\u001b[37m\u001b[0m \u001b[1m0s\u001b[0m 31ms/step\n",
            "\u001b[1m1/1\u001b[0m \u001b[32m━━━━━━━━━━━━━━━━━━━━\u001b[0m\u001b[37m\u001b[0m \u001b[1m0s\u001b[0m 30ms/step\n",
            "\u001b[1m1/1\u001b[0m \u001b[32m━━━━━━━━━━━━━━━━━━━━\u001b[0m\u001b[37m\u001b[0m \u001b[1m0s\u001b[0m 30ms/step\n",
            "\u001b[1m1/1\u001b[0m \u001b[32m━━━━━━━━━━━━━━━━━━━━\u001b[0m\u001b[37m\u001b[0m \u001b[1m0s\u001b[0m 30ms/step\n",
            "\u001b[1m1/1\u001b[0m \u001b[32m━━━━━━━━━━━━━━━━━━━━\u001b[0m\u001b[37m\u001b[0m \u001b[1m0s\u001b[0m 30ms/step\n",
            "\u001b[1m1/1\u001b[0m \u001b[32m━━━━━━━━━━━━━━━━━━━━\u001b[0m\u001b[37m\u001b[0m \u001b[1m0s\u001b[0m 29ms/step\n",
            "\u001b[1m1/1\u001b[0m \u001b[32m━━━━━━━━━━━━━━━━━━━━\u001b[0m\u001b[37m\u001b[0m \u001b[1m0s\u001b[0m 31ms/step\n",
            "\u001b[1m1/1\u001b[0m \u001b[32m━━━━━━━━━━━━━━━━━━━━\u001b[0m\u001b[37m\u001b[0m \u001b[1m0s\u001b[0m 42ms/step\n",
            "\u001b[1m1/1\u001b[0m \u001b[32m━━━━━━━━━━━━━━━━━━━━\u001b[0m\u001b[37m\u001b[0m \u001b[1m0s\u001b[0m 30ms/step\n",
            "\u001b[1m1/1\u001b[0m \u001b[32m━━━━━━━━━━━━━━━━━━━━\u001b[0m\u001b[37m\u001b[0m \u001b[1m0s\u001b[0m 46ms/step\n",
            "\u001b[1m1/1\u001b[0m \u001b[32m━━━━━━━━━━━━━━━━━━━━\u001b[0m\u001b[37m\u001b[0m \u001b[1m0s\u001b[0m 30ms/step\n",
            "\u001b[1m1/1\u001b[0m \u001b[32m━━━━━━━━━━━━━━━━━━━━\u001b[0m\u001b[37m\u001b[0m \u001b[1m0s\u001b[0m 30ms/step\n",
            "\u001b[1m1/1\u001b[0m \u001b[32m━━━━━━━━━━━━━━━━━━━━\u001b[0m\u001b[37m\u001b[0m \u001b[1m0s\u001b[0m 30ms/step\n",
            "\u001b[1m1/1\u001b[0m \u001b[32m━━━━━━━━━━━━━━━━━━━━\u001b[0m\u001b[37m\u001b[0m \u001b[1m0s\u001b[0m 29ms/step\n",
            "\u001b[1m1/1\u001b[0m \u001b[32m━━━━━━━━━━━━━━━━━━━━\u001b[0m\u001b[37m\u001b[0m \u001b[1m0s\u001b[0m 47ms/step\n",
            "\u001b[1m1/1\u001b[0m \u001b[32m━━━━━━━━━━━━━━━━━━━━\u001b[0m\u001b[37m\u001b[0m \u001b[1m0s\u001b[0m 31ms/step\n",
            "\u001b[1m1/1\u001b[0m \u001b[32m━━━━━━━━━━━━━━━━━━━━\u001b[0m\u001b[37m\u001b[0m \u001b[1m0s\u001b[0m 30ms/step\n",
            "\u001b[1m1/1\u001b[0m \u001b[32m━━━━━━━━━━━━━━━━━━━━\u001b[0m\u001b[37m\u001b[0m \u001b[1m0s\u001b[0m 30ms/step\n",
            "\u001b[1m1/1\u001b[0m \u001b[32m━━━━━━━━━━━━━━━━━━━━\u001b[0m\u001b[37m\u001b[0m \u001b[1m0s\u001b[0m 31ms/step\n",
            "\u001b[1m1/1\u001b[0m \u001b[32m━━━━━━━━━━━━━━━━━━━━\u001b[0m\u001b[37m\u001b[0m \u001b[1m0s\u001b[0m 32ms/step\n",
            "\u001b[1m1/1\u001b[0m \u001b[32m━━━━━━━━━━━━━━━━━━━━\u001b[0m\u001b[37m\u001b[0m \u001b[1m0s\u001b[0m 32ms/step\n",
            "\u001b[1m1/1\u001b[0m \u001b[32m━━━━━━━━━━━━━━━━━━━━\u001b[0m\u001b[37m\u001b[0m \u001b[1m0s\u001b[0m 31ms/step\n",
            "\u001b[1m1/1\u001b[0m \u001b[32m━━━━━━━━━━━━━━━━━━━━\u001b[0m\u001b[37m\u001b[0m \u001b[1m0s\u001b[0m 31ms/step\n",
            "\u001b[1m1/1\u001b[0m \u001b[32m━━━━━━━━━━━━━━━━━━━━\u001b[0m\u001b[37m\u001b[0m \u001b[1m0s\u001b[0m 30ms/step\n",
            "\u001b[1m1/1\u001b[0m \u001b[32m━━━━━━━━━━━━━━━━━━━━\u001b[0m\u001b[37m\u001b[0m \u001b[1m0s\u001b[0m 30ms/step\n",
            "\u001b[1m1/1\u001b[0m \u001b[32m━━━━━━━━━━━━━━━━━━━━\u001b[0m\u001b[37m\u001b[0m \u001b[1m0s\u001b[0m 30ms/step\n",
            "\u001b[1m1/1\u001b[0m \u001b[32m━━━━━━━━━━━━━━━━━━━━\u001b[0m\u001b[37m\u001b[0m \u001b[1m0s\u001b[0m 31ms/step\n",
            "\u001b[1m1/1\u001b[0m \u001b[32m━━━━━━━━━━━━━━━━━━━━\u001b[0m\u001b[37m\u001b[0m \u001b[1m0s\u001b[0m 41ms/step\n",
            "\u001b[1m1/1\u001b[0m \u001b[32m━━━━━━━━━━━━━━━━━━━━\u001b[0m\u001b[37m\u001b[0m \u001b[1m0s\u001b[0m 30ms/step\n",
            "\u001b[1m1/1\u001b[0m \u001b[32m━━━━━━━━━━━━━━━━━━━━\u001b[0m\u001b[37m\u001b[0m \u001b[1m0s\u001b[0m 30ms/step\n",
            "\u001b[1m1/1\u001b[0m \u001b[32m━━━━━━━━━━━━━━━━━━━━\u001b[0m\u001b[37m\u001b[0m \u001b[1m0s\u001b[0m 31ms/step\n",
            "\u001b[1m1/1\u001b[0m \u001b[32m━━━━━━━━━━━━━━━━━━━━\u001b[0m\u001b[37m\u001b[0m \u001b[1m0s\u001b[0m 30ms/step\n",
            "\u001b[1m1/1\u001b[0m \u001b[32m━━━━━━━━━━━━━━━━━━━━\u001b[0m\u001b[37m\u001b[0m \u001b[1m0s\u001b[0m 30ms/step\n",
            "\u001b[1m1/1\u001b[0m \u001b[32m━━━━━━━━━━━━━━━━━━━━\u001b[0m\u001b[37m\u001b[0m \u001b[1m0s\u001b[0m 31ms/step\n",
            "\u001b[1m1/1\u001b[0m \u001b[32m━━━━━━━━━━━━━━━━━━━━\u001b[0m\u001b[37m\u001b[0m \u001b[1m0s\u001b[0m 30ms/step\n",
            "\u001b[1m1/1\u001b[0m \u001b[32m━━━━━━━━━━━━━━━━━━━━\u001b[0m\u001b[37m\u001b[0m \u001b[1m0s\u001b[0m 33ms/step\n",
            "\u001b[1m1/1\u001b[0m \u001b[32m━━━━━━━━━━━━━━━━━━━━\u001b[0m\u001b[37m\u001b[0m \u001b[1m0s\u001b[0m 29ms/step\n",
            "\u001b[1m1/1\u001b[0m \u001b[32m━━━━━━━━━━━━━━━━━━━━\u001b[0m\u001b[37m\u001b[0m \u001b[1m0s\u001b[0m 29ms/step\n",
            "\u001b[1m1/1\u001b[0m \u001b[32m━━━━━━━━━━━━━━━━━━━━\u001b[0m\u001b[37m\u001b[0m \u001b[1m0s\u001b[0m 30ms/step\n",
            "\u001b[1m1/1\u001b[0m \u001b[32m━━━━━━━━━━━━━━━━━━━━\u001b[0m\u001b[37m\u001b[0m \u001b[1m0s\u001b[0m 31ms/step\n",
            "\u001b[1m1/1\u001b[0m \u001b[32m━━━━━━━━━━━━━━━━━━━━\u001b[0m\u001b[37m\u001b[0m \u001b[1m0s\u001b[0m 30ms/step\n",
            "\u001b[1m1/1\u001b[0m \u001b[32m━━━━━━━━━━━━━━━━━━━━\u001b[0m\u001b[37m\u001b[0m \u001b[1m0s\u001b[0m 30ms/step\n",
            "\u001b[1m1/1\u001b[0m \u001b[32m━━━━━━━━━━━━━━━━━━━━\u001b[0m\u001b[37m\u001b[0m \u001b[1m0s\u001b[0m 29ms/step\n"
          ]
        }
      ]
    },
    {
      "cell_type": "code",
      "source": [
        "model.save(\"real_vs_fake_model.h5\")\n"
      ],
      "metadata": {
        "id": "ScpDnn07mi7G"
      },
      "execution_count": null,
      "outputs": []
    }
  ]
}